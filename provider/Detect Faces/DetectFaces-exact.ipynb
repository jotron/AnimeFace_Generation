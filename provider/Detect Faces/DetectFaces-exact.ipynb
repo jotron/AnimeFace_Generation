{
 "cells": [
  {
   "cell_type": "markdown",
   "metadata": {},
   "source": [
    "# Detect Faces"
   ]
  },
  {
   "cell_type": "code",
   "execution_count": 3,
   "metadata": {},
   "outputs": [],
   "source": [
    "import cv2\n",
    "import sys\n",
    "import os\n",
    "import glob\n",
    "import numpy as np"
   ]
  },
  {
   "cell_type": "code",
   "execution_count": 13,
   "metadata": {},
   "outputs": [],
   "source": [
    "cascade_file = \"./lbpcascade_animeface.xml\"\n",
    "if not os.path.isfile(cascade_file):\n",
    "        raise RuntimeError(\"%s: not found\" % cascade_file)\n",
    "cascade = cv2.CascadeClassifier(cascade_file)\n",
    "\n",
    "def detect(filename, outfile):\n",
    "\n",
    "    image = cv2.imread(filename, cv2.IMREAD_COLOR)\n",
    "    gray = cv2.cvtColor(image, cv2.COLOR_BGR2GRAY)\n",
    "    gray = cv2.equalizeHist(gray)\n",
    "    \n",
    "    faces = cascade.detectMultiScale(gray,\n",
    "                                     scaleFactor = 1.1,\n",
    "                                     minNeighbors = 8,\n",
    "                                     minSize=(64, 64))\n",
    "    \n",
    "    # Note: This overwrites the file in the case of multiple detected faces, can be adjusted if not desired behaviour\n",
    "    i=0\n",
    "    for (x, y, w, h) in faces:\n",
    "        # Widen face rectangle slightly to include more head/hair\n",
    "        scale = 0.8\n",
    "        cropw = int(w*scale)\n",
    "        croph = int(h*scale)\n",
    "        cropx = int(x-(cropw-w)/2)\n",
    "        cropy = int(y-(croph-h)/2)\n",
    "        \n",
    "        crop_img = image[cropy:cropy+croph, cropx:cropx+cropw]\n",
    "        cv2.imwrite(f\"{outfile}_{i}.jpg\", crop_img)\n",
    "        i += 1"
   ]
  },
  {
   "cell_type": "markdown",
   "metadata": {},
   "source": [
    "## Sample Faces"
   ]
  },
  {
   "cell_type": "code",
   "execution_count": 23,
   "metadata": {},
   "outputs": [],
   "source": [
    "source = '/media/joel/HardDisk/Animeface_Customization_Dataset/moeimouto'\n",
    "target = '/media/joel/HardDisk/Animeface_Customization_Dataset/moeimouto-exact-faces'\n",
    "files = glob.glob(os.path.join(source, '*/*.png'))"
   ]
  },
  {
   "cell_type": "code",
   "execution_count": 25,
   "metadata": {},
   "outputs": [
    {
     "name": "stdout",
     "output_type": "stream",
     "text": [
      "Processed iamge /media/joel/HardDisk/Animeface_Customization_Dataset/moeimouto/051_houjou_reika/face_137_260_2.png.\n",
      "Processed iamge /media/joel/HardDisk/Animeface_Customization_Dataset/moeimouto/032_yakumo_yukari/face_140_180_122.png.\n",
      "Processed iamge /media/joel/HardDisk/Animeface_Customization_Dataset/moeimouto/057_li_syaoran/face_263_237_115.png.\n",
      "Processed iamge /media/joel/HardDisk/Animeface_Customization_Dataset/moeimouto/060_ichinose_kotomi/face_140_582_91.png.\n",
      "Processed iamge /media/joel/HardDisk/Animeface_Customization_Dataset/moeimouto/042_tsukimura_mayu/face_136_190_92.png.\n",
      "Processed iamge /media/joel/HardDisk/Animeface_Customization_Dataset/moeimouto/004_takamachi_nanoha/face_461_435_47.png.\n",
      "Processed iamge /media/joel/HardDisk/Animeface_Customization_Dataset/moeimouto/013_saber/face_277_158_95.png.\n",
      "Processed iamge /media/joel/HardDisk/Animeface_Customization_Dataset/moeimouto/075_katsura_hinagiku/face_176_283_71.png.\n",
      "Processed iamge /media/joel/HardDisk/Animeface_Customization_Dataset/moeimouto/198_nogizaka_haruka/face_227_417_24.png.\n",
      "Processed iamge /media/joel/HardDisk/Animeface_Customization_Dataset/moeimouto/002_suzumiya_haruhi/face_746_179_5.png.\n",
      "Processed iamge /media/joel/HardDisk/Animeface_Customization_Dataset/moeimouto/125_sakai_yuuji/face_686_490_101.png.\n",
      "Processed iamge /media/joel/HardDisk/Animeface_Customization_Dataset/moeimouto/153_canal_volphied/face_326_261_91.png.\n",
      "Processed iamge /media/joel/HardDisk/Animeface_Customization_Dataset/moeimouto/083_shirou_kamui/face_1144_301_21.png.\n",
      "Processed iamge /media/joel/HardDisk/Animeface_Customization_Dataset/moeimouto/139_caro_ru_lushe/face_1062_189_13.png.\n"
     ]
    }
   ],
   "source": [
    "count = 0\n",
    "\n",
    "for filename in files:\n",
    "    \n",
    "    outputname = os.path.join(target, os.path.relpath(filename, source))[:-4]\n",
    "    if not os.path.exists(os.path.dirname(outputname)):\n",
    "        os.makedirs(os.path.dirname(outputname))\n",
    "        \n",
    "    detect(filename, outputname)\n",
    "    count += 1\n",
    "    if (count%1000 == 0):\n",
    "        print(\"Processed iamge {}.\".format(filename))"
   ]
  },
  {
   "cell_type": "markdown",
   "metadata": {},
   "source": [
    "## Resize Images"
   ]
  },
  {
   "cell_type": "code",
   "execution_count": 26,
   "metadata": {},
   "outputs": [
    {
     "data": {
      "text/plain": [
       "4573"
      ]
     },
     "execution_count": 26,
     "metadata": {},
     "output_type": "execute_result"
    }
   ],
   "source": [
    "# Define image size for future steps\n",
    "IMG_SIZE = 64\n",
    "source = '/media/joel/HardDisk/Animeface_Customization_Dataset/moeimouto-exact-faces'\n",
    "target = '/home/joel/Documents/AnimeFace_Customization/data/danbooru-faces-exact-64'\n",
    "files = glob.glob(os.path.join(source, '*/*.jpg')); len(files)"
   ]
  },
  {
   "cell_type": "code",
   "execution_count": 27,
   "metadata": {},
   "outputs": [
    {
     "name": "stdout",
     "output_type": "stream",
     "text": [
      "Processed iamge /media/joel/HardDisk/Animeface_Customization_Dataset/moeimouto-exact-faces/080_koizumi_itsuki/face_130_271_79_0.jpg.\n"
     ]
    }
   ],
   "source": [
    "# Resize all images to target dimensions\n",
    "count = 0\n",
    "\n",
    "for filename in files:\n",
    "    \n",
    "    outputname = os.path.join(target, os.path.relpath(filename, source))\n",
    "    if not os.path.exists(os.path.dirname(outputname)):\n",
    "        os.makedirs(os.path.dirname(outputname))\n",
    "    \n",
    "    image = cv2.imread(filename, cv2.IMREAD_COLOR)\n",
    "    \n",
    "    height, width = image.shape[:2]\n",
    "    \n",
    "    if height == width:\n",
    "        if width >= IMG_SIZE:\n",
    "            small = cv2.resize(image, (IMG_SIZE, IMG_SIZE), interpolation = cv2.INTER_AREA)\n",
    "            # cv2.imshow(\"Resized\", small)\n",
    "            cv2.imwrite(outputname, small)\n",
    "            \n",
    "    if (count%10000 == 0):\n",
    "        print(\"Processed iamge {}.\".format(filename))\n",
    "    count += 1"
   ]
  },
  {
   "cell_type": "code",
   "execution_count": null,
   "metadata": {},
   "outputs": [],
   "source": []
  }
 ],
 "metadata": {
  "kernelspec": {
   "display_name": "Python User",
   "language": "python",
   "name": "other-env"
  },
  "language_info": {
   "codemirror_mode": {
    "name": "ipython",
    "version": 3
   },
   "file_extension": ".py",
   "mimetype": "text/x-python",
   "name": "python",
   "nbconvert_exporter": "python",
   "pygments_lexer": "ipython3",
   "version": "3.6.7"
  }
 },
 "nbformat": 4,
 "nbformat_minor": 2
}
